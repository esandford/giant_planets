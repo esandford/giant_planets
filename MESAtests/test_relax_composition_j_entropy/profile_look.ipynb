{
 "cells": [
  {
   "cell_type": "code",
   "execution_count": 3,
   "metadata": {
    "collapsed": false,
    "jupyter": {
     "outputs_hidden": false
    }
   },
   "outputs": [],
   "source": [
    "import numpy as np\n",
    "import matplotlib.pyplot as plt\n",
    "\n",
    "import matplotlib.style\n",
    "import matplotlib as mpl\n",
    "import matplotlib.colors as colors\n",
    "import matplotlib.cm as cmx\n",
    "from matplotlib.pyplot import cycler\n",
    "mpl.style.use('classic')\n",
    "\n",
    "from astropy.table import Table\n",
    "from astropy import units as u\n",
    "from astropy.constants import G\n",
    "\n",
    "import mesa_helper as mh\n",
    "import os\n",
    "import shutil\n",
    "\n",
    "%matplotlib inline"
   ]
  },
  {
   "cell_type": "code",
   "execution_count": 4,
   "metadata": {},
   "outputs": [
    {
     "name": "stdout",
     "output_type": "stream",
     "text": [
      "0.0009545942339693249\n"
     ]
    }
   ],
   "source": [
    "mJtomSun = u.jupiterMass.to(u.solMass)\n",
    "mJtoGrams = u.jupiterMass.to(u.g)\n",
    "\n",
    "rJtorSun = u.jupiterRad.to(u.solRad)\n",
    "rJtoCm = u.jupiterRad.to(u.cm)\n",
    "\n",
    "print(mJtomSun)"
   ]
  },
  {
   "cell_type": "code",
   "execution_count": 5,
   "metadata": {},
   "outputs": [
    {
     "name": "stdout",
     "output_type": "stream",
     "text": [
      "          xq                   h1         ...          mg24        \n",
      "---------------------- ------------------ ... ---------------------\n",
      "4.0001335577244395e-13 0.6989932523344085 ... 0.0040772218292557385\n",
      " 1.469269150788932e-12 0.6989932523344085 ... 0.0040772218292557385\n",
      " 3.009703597456337e-12 0.6989932523344085 ... 0.0040772218292557385\n",
      " 5.293210314505359e-12 0.6989932523344086 ... 0.0040772218292557385\n",
      " 8.319789301935998e-12 0.6989932523344086 ... 0.0040772218292557385\n",
      "1.2148615446960775e-11 0.6989932523344083 ... 0.0040772218292557385\n",
      "1.7315926470473638e-11 0.6989932523344083 ... 0.0040772218292557385\n",
      "  2.69517741458003e-11 0.6989932523344081 ... 0.0040772218292557385\n",
      " 4.676481424326084e-11 0.6989932523344072 ... 0.0040772218292557385\n",
      " 9.270995082744092e-11 0.6989932523344037 ... 0.0040772218292557385\n",
      "                   ...                ... ...                   ...\n",
      "    0.9999789417002226                0.0 ...  0.004077221830638504\n",
      "    0.9999862293710636                0.0 ...  0.004077221830638504\n",
      "    0.9999924049048643                0.0 ...  0.004077221830638504\n",
      "    0.9999962024524351                0.0 ...  0.004077221830638504\n",
      "     0.999998101226221                0.0 ...  0.004077221830638504\n",
      "    0.9999990506131139                0.0 ...  0.004077221830638504\n",
      "    0.9999995253065604                0.0 ...  0.004077221830638504\n",
      "    0.9999997626532835                0.0 ...  0.004077221830638504\n",
      "    0.9999998813266456                0.0 ...  0.004077221830638504\n",
      "     0.999999960442216                0.0 ...  0.004077221830638504\n",
      "Length = 1472 rows\n",
      "          xq                entropy      \n",
      "---------------------- ------------------\n",
      "4.0001335577244395e-13  2282815439.168939\n",
      " 1.469269150788932e-12 2282854431.9842405\n",
      " 3.009703597456337e-12 2282910697.7576036\n",
      " 5.293210314505359e-12 2282994298.8516126\n",
      " 8.319789301935998e-12  2283105496.719631\n",
      "1.2148615446960775e-11 2283246755.2173862\n",
      "1.7315926470473638e-11 2283438475.5038166\n",
      "  2.69517741458003e-11  2283798880.740252\n",
      " 4.676481424326084e-11 2284552848.9620705\n",
      " 9.270995082744092e-11  2286363605.835001\n",
      "                   ...                ...\n",
      "    0.9999789417002226  534506067.9427672\n",
      "    0.9999862293710636  534506068.0180263\n",
      "    0.9999924049048643  534506059.6617612\n",
      "    0.9999962024524351  534506050.3774771\n",
      "     0.999998101226221  534506046.7295469\n",
      "    0.9999990506131139  534506045.3066546\n",
      "    0.9999995253065604 534506044.75970274\n",
      "    0.9999997626532835 534506044.55554503\n",
      "    0.9999998813266456  534506044.4839909\n",
      "     0.999999960442216   534506044.504076\n",
      "Length = 1472 rows\n",
      "          xq                     AM          \n",
      "---------------------- ----------------------\n",
      "                   0.0 1.0358123789248135e+19\n",
      " 8.000267115448879e-13 1.0358118397078376e+19\n",
      "2.1386226123354394e-12 1.0358109376333502e+19\n",
      " 3.880784582577235e-12 1.0358097639154604e+19\n",
      " 6.705636046433484e-12   1.03580762601077e+19\n",
      " 9.934053579740976e-12 1.0358052174435488e+19\n",
      "1.4363177314180575e-11  1.035802002519918e+19\n",
      "2.0268675626766708e-11 1.0357977978983766e+19\n",
      " 3.363487266483389e-11 1.0357881224438067e+19\n",
      " 5.989486684399026e-11 1.0357691464713632e+19\n",
      "                   ...                    ...\n",
      "    0.9999752978648015     256503588840224.56\n",
      "    0.9999825855356429      203108479865818.2\n",
      "     0.999989873206484     141447285652161.78\n",
      "    0.9999949366032448      89075296990285.31\n",
      "    0.9999974683016256      56101663459835.18\n",
      "    0.9999987341508163      35336977295195.83\n",
      "    0.9999993670754115      22258976261725.63\n",
      "    0.9999996835377091     14021517643660.756\n",
      "     0.999999841768858      8832706825921.559\n",
      "    0.9999999208844332      5564146481652.125\n",
      "Length = 1472 rows\n"
     ]
    }
   ],
   "source": [
    "# xq is fraction of (Mstar - Mcenter) exterior to cell q\n",
    "# for our purposes Mcenter will be 0 always, so xq is fraction of Mstar exterior to q\n",
    "\n",
    "# ith column gives mass fraction of species i in cell q.\n",
    "composition_table_column_names = ['xq', 'h1', 'he3', 'he4', 'c12', 'n14', 'o16', 'ne20', 'mg24']\n",
    "composition = Table.read(\"./composition.dat\", format=\"ascii.fast_no_header\", names=composition_table_column_names, data_start=1, guess=False, fast_reader={'exponent_style': 'fortran'})\n",
    "print(composition)\n",
    "\n",
    "\n",
    "# xq is fraction of (Mstar - Mcenter) exterior to cell q\n",
    "# for our purposes Mcenter will be 0 always, so xq is fraction of Mstar exterior to q\n",
    "\n",
    "# entropy column is specific entropy in units of erg K^-1 g^-1\n",
    "entropy_table_column_names=['xq', 'entropy']\n",
    "entropy = Table.read(\"./entropy.dat\",format=\"ascii.fast_no_header\",names=entropy_table_column_names, data_start=1, guess=False, fast_reader={'exponent_style': 'fortran'})\n",
    "print(entropy)\n",
    "\n",
    "# xq is fraction of (Mstar - Mcenter) exterior to cell q\n",
    "# for our purposes Mcenter will be 0 always, so xq is fraction of Mstar exterior to q\n",
    "\n",
    "# AM column is specific AM in units of cm^2 s^-1\n",
    "angular_momentum_table_column_names = ['xq', 'AM']\n",
    "AM = Table.read(\"./angular_momentum.dat\",format=\"ascii.fast_no_header\",names=angular_momentum_table_column_names, data_start=1, guess=False, fast_reader={'exponent_style': 'fortran'})\n",
    "print(AM)\n"
   ]
  },
  {
   "cell_type": "code",
   "execution_count": 10,
   "metadata": {},
   "outputs": [],
   "source": [
    "def get_cycle(cmap, N=None, use_index=\"auto\"):\n",
    "    if isinstance(cmap, str):\n",
    "        if use_index == \"auto\":\n",
    "            if cmap in ['Pastel1', 'Pastel2', 'Paired', 'Accent',\n",
    "                        'Dark2', 'Set1', 'Set2', 'Set3',\n",
    "                        'tab10', 'tab20', 'tab20b', 'tab20c']:\n",
    "                use_index=True\n",
    "            else:\n",
    "                use_index=False\n",
    "        cmap = matplotlib.colormaps[cmap]\n",
    "    if not N:\n",
    "        N = cmap.N\n",
    "    if use_index==\"auto\":\n",
    "        if cmap.N > 100:\n",
    "            use_index=False\n",
    "        elif isinstance(cmap, LinearSegmentedColormap):\n",
    "            use_index=False\n",
    "        elif isinstance(cmap, ListedColormap):\n",
    "            use_index=True\n",
    "    if use_index:\n",
    "        ind = np.arange(int(N)) % cmap.N\n",
    "        return cycler(\"color\",cmap(ind))\n",
    "    else:\n",
    "        colors = cmap(np.linspace(0,1,N))\n",
    "        return cycler(\"color\",colors)\n",
    "\n",
    "def plot_mass_fractions(composition_table, species_to_plot=['h1', 'he3', 'he4', 'c12', 'n14', 'o16', 'ne20', 'mg24'], \n",
    "                        color_list = [],\n",
    "                        save=False, savefilename=None):\n",
    "\n",
    "    num_cells = len(composition_table)\n",
    "    \n",
    "    fig, ax  = plt.subplots(1,1,figsize=(8,6))\n",
    "    ax.set_prop_cycle(get_cycle('tab10', 9))\n",
    "\n",
    "    for i, species in enumerate(species_to_plot):\n",
    "        ax.plot(composition_table['xq'], composition_table[species], linestyle='-',marker='None',label=species)\n",
    "\n",
    "    ax.set_xscale('log')\n",
    "    ax.set_yscale('log')\n",
    "    ax.set_xlabel('mass exterior to cell')\n",
    "    ax.set_ylabel('mass fraction')\n",
    "    ax.legend(loc='best')\n",
    "    ax.set_xlim(1.e-1,1.)\n",
    "    ax.set_ylim(1.e-10,1.)\n",
    "    \n",
    "    if save is False:\n",
    "        plt.show()\n",
    "    else:\n",
    "        plt.savefig(savefilename,bbox_inches='tight')\n",
    "        \n",
    "    return"
   ]
  },
  {
   "cell_type": "code",
   "execution_count": 11,
   "metadata": {},
   "outputs": [
    {
     "data": {
      "image/png": "[encoded data removed]",
      "text/plain": [
       "<Figure size 640x480 with 1 Axes>"
      ]
     },
     "metadata": {},
     "output_type": "display_data"
    }
   ],
   "source": [
    "plot_mass_fractions(composition)"
   ]
  },
  {
   "cell_type": "code",
   "execution_count": null,
   "metadata": {},
   "outputs": [],
   "source": []
  },
  {
   "cell_type": "code",
   "execution_count": null,
   "metadata": {},
   "outputs": [],
   "source": []
  },
  {
   "cell_type": "code",
   "execution_count": null,
   "metadata": {},
   "outputs": [],
   "source": []
  }
 ],
 "metadata": {
  "kernelspec": {
   "display_name": "Python 3 (ipykernel)",
   "language": "python",
   "name": "python3"
  },
  "language_info": {
   "codemirror_mode": {
    "name": "ipython",
    "version": 3
   },
   "file_extension": ".py",
   "mimetype": "text/x-python",
   "name": "python",
   "nbconvert_exporter": "python",
   "pygments_lexer": "ipython3",
   "version": "3.12.2"
  }
 },
 "nbformat": 4,
 "nbformat_minor": 4
}
