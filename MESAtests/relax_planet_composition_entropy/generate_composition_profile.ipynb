{
 "cells": [
  {
   "cell_type": "code",
   "execution_count": 128,
   "metadata": {
    "collapsed": false,
    "jupyter": {
     "outputs_hidden": false
    }
   },
   "outputs": [],
   "source": [
    "import numpy as np\n",
    "import matplotlib.pyplot as plt\n",
    "\n",
    "import matplotlib.style\n",
    "import matplotlib as mpl\n",
    "\n",
    "mpl.style.use('classic')\n",
    "\n",
    "import baraffe_tables\n",
    "from baraffe_tables.table_search import baraffe_table_search\n",
    "\n",
    "from astropy.table import Table\n",
    "from astropy import units as u\n",
    "from astropy.constants import G\n",
    "\n",
    "from scipy.optimize import fsolve\n",
    "\n",
    "import mesa_helper as mh\n",
    "import os\n",
    "import shutil\n",
    "\n",
    "%matplotlib inline"
   ]
  },
  {
   "cell_type": "code",
   "execution_count": 2,
   "metadata": {},
   "outputs": [
    {
     "name": "stdout",
     "output_type": "stream",
     "text": [
      "0.0009545942339693249\n",
      "1.8981245973360504e+30\n",
      "0.10276268506540176\n",
      "7149200000.0\n"
     ]
    }
   ],
   "source": [
    "mJtomSun = u.jupiterMass.to(u.solMass)\n",
    "mJtoGrams = u.jupiterMass.to(u.g)\n",
    "\n",
    "rJtorSun = u.jupiterRad.to(u.solRad)\n",
    "rJtoCm = u.jupiterRad.to(u.cm)\n",
    "\n",
    "print(mJtomSun)\n",
    "print(mJtoGrams)\n",
    "print(rJtorSun)\n",
    "print(rJtoCm)\n"
   ]
  },
  {
   "cell_type": "code",
   "execution_count": null,
   "metadata": {},
   "outputs": [],
   "source": []
  },
  {
   "cell_type": "code",
   "execution_count": 122,
   "metadata": {},
   "outputs": [
    {
     "name": "stdout",
     "output_type": "stream",
     "text": [
      "2.548573492235464\n",
      "0.70572781\n",
      "0.27693460999999997\n",
      "0.01733758000000024\n"
     ]
    }
   ],
   "source": [
    "pp_extras_species = ['h1', 'h2', 'he3', 'he4', 'li7', 'be7', 'b8', 'c12', 'n14', 'o16', 'ne20', 'mg24']\n",
    "pp_extras_amu = np.array((1.007825032, 2.014101778, 3.01602932, 4.002603254, 7.016003428, 7.01692871, 8.0246073, 12., 14.003074, 15.99491462, 19.99244018, 23.9850417))\n",
    "\n",
    "# mass fractions for h1, h2, he3, he4, li7, c12, n14, o16, ne20 come from Lodders 2021\n",
    "# mass fractions for be7, b8 come from MESA gs98 chem lib (Grevesse & Sauval 1998) (but note, these are so so trace)\n",
    "# mass fraction for mg24 is 1 - sum of all the others\n",
    "pp_extras_protosolar_mass_fractions = np.array((7.057e-1, 2.781e-5, 3.461e-5, 2.769e-1, 1.025e-8, 3.592e-89, 1.e-99, 3.011e-3, 8.482e-4, 7.377e-3, 2.261e-3, 5.398e-4))\n",
    "pp_extras_protosolar_mass_fractions[-1] = 1.0 - np.sum(pp_extras_protosolar_mass_fractions[:-1])\n",
    "\n",
    "pp_extras_XY = pp_extras_protosolar_mass_fractions[0]/pp_extras_protosolar_mass_fractions[3]\n",
    "print(pp_extras_XY)\n",
    "pp_extras_X = np.sum(pp_extras_protosolar_mass_fractions[0:2])\n",
    "print(pp_extras_X)\n",
    "pp_extras_Y = np.sum(pp_extras_protosolar_mass_fractions[2:4])\n",
    "print(pp_extras_Y)\n",
    "pp_extras_Z = np.sum(pp_extras_protosolar_mass_fractions[4:])\n",
    "print(pp_extras_Z)"
   ]
  },
  {
   "cell_type": "code",
   "execution_count": 123,
   "metadata": {},
   "outputs": [
    {
     "name": "stdout",
     "output_type": "stream",
     "text": [
      "zone          mass          ... brunt_N2_sub_omega2 sl2_sub_omega2\n",
      "---- ---------------------- ... ------------------- --------------\n",
      "   1   0.010004446413508129 ...                 1.0            0.0\n",
      "   2   0.010004446413498125 ...                 1.0            0.0\n",
      "   3    0.01000444641348562 ...                 1.0            0.0\n",
      "   4   0.010004446413473114 ...                 1.0            0.0\n",
      "   5   0.010004446413448102 ...                 1.0            0.0\n",
      "   6    0.01000444641339808 ...                 1.0            0.0\n",
      "   7   0.010004446413273025 ...                 1.0            0.0\n",
      "   8    0.01000444641314797 ...                 1.0            0.0\n",
      "   9   0.010004446412897858 ...                 1.0            0.0\n",
      "  10   0.010004446412397635 ...                 1.0            0.0\n",
      " ...                    ... ...                 ...            ...\n",
      " 547    5.8545164584831e-07 ...                 0.0            1.0\n",
      " 548  3.950056478270642e-07 ...                 0.0            1.0\n",
      " 549 2.1891359847665508e-07 ...                 0.0            1.0\n",
      " 550  9.965519709700215e-08 ...                 0.0            1.0\n",
      " 551  4.536574922625217e-08 ...                 0.0            1.0\n",
      " 552 2.0651745716774063e-08 ...                 0.0            1.0\n",
      " 553  9.401253713901893e-09 ...                 0.0            1.0\n",
      " 554  4.279716177107774e-09 ...                 0.0            1.0\n",
      " 555 1.9482481665640374e-09 ...                 0.0            1.0\n",
      " 556   9.78576936438412e-10 ...                 0.0            1.0\n",
      "Length = 556 rows\n",
      "['zone', 'mass', 'logR', 'logT', 'logRho', 'logP', 'x_mass_fraction_H', 'y_mass_fraction_He', 'z_mass_fraction_metals', 'dm', 'q', 'xq', 'radius', 'rmid', 'acoustic_radius', 'temperature', 'energy', 'entropy', 'pressure', 'prad', 'pgas', 'grada', 'log_csound', 'h1', 'h2', 'he3', 'he4', 'li7', 'be7', 'b8', 'c12', 'n14', 'o16', 'ne20', 'mg24', 'total_energy', 'gradT', 'gradr', 'gradL', 'sch_stable', 'ledoux_stable', 'mixing_type', 'tau', 'brunt_N2', 'brunt_N2_structure_term', 'brunt_N2_composition_term', 'log_brunt_N2_structure_term', 'log_brunt_N2_composition_term', 'brunt_A', 'brunt_A_div_x2', 'brunt_N2_dimensionless', 'brunt_N_dimensionless', 'brunt_frequency', 'brunt_N', 'log_brunt_N', 'log_brunt_N2', 'log_brunt_N2_dimensionless', 'brunt_B', 'brunt_nonB', 'log_brunt_B', 'log_brunt_nonB', 'sign_brunt_N2', 'brunt_nu', 'log_brunt_nu', 'lamb_S', 'lamb_S2', 'lamb_Sl1', 'lamb_Sl2', 'lamb_Sl3', 'lamb_Sl10', 'log_lamb_Sl1', 'log_lamb_Sl2', 'log_lamb_Sl3', 'log_lamb_Sl10', 'brunt_N_div_r_integral', 'k_r_integral', 'brunt_N2_sub_omega2', 'sl2_sub_omega2']\n"
     ]
    }
   ],
   "source": [
    "tp = Table.read(\"../reproducePaxton+2011fig18_24.08.1/make_brown_dwarf/LOGS_pp_extras/profile3.data\", format=\"ascii\", header_start=4, data_start=5)\n",
    "print(tp)\n",
    "print(tp.colnames)"
   ]
  },
  {
   "cell_type": "code",
   "execution_count": 136,
   "metadata": {},
   "outputs": [
    {
     "name": "stdout",
     "output_type": "stream",
     "text": [
      "          dm          \n",
      "----------------------\n",
      "1.9892939999489274e+19\n",
      "2.4866174999361597e+19\n",
      "2.4866174999361593e+19\n",
      " 4.973234999872318e+19\n",
      " 9.946469999744637e+19\n",
      " 2.486617499936159e+20\n",
      " 2.486617499936159e+20\n",
      " 4.973234999872318e+20\n",
      " 9.946469999744635e+20\n",
      "1.6251746421914185e+21\n",
      "                   ...\n",
      " 3.786847023003866e+26\n",
      " 3.501431690798018e+26\n",
      "2.3713458246697187e+26\n",
      "1.0794967402094649e+26\n",
      " 4.914156852271253e+25\n",
      "2.2370589348720503e+25\n",
      "1.0183715791312003e+25\n",
      "4.6359140053819124e+24\n",
      "1.9281038453137143e+24\n",
      " 1.945812052902957e+24\n",
      "Length = 556 rows\n"
     ]
    }
   ],
   "source": [
    "print(tp['dm'])"
   ]
  },
  {
   "cell_type": "code",
   "execution_count": 67,
   "metadata": {},
   "outputs": [
    {
     "data": {
      "image/png": "[encoded data removed]",
      "text/plain": [
       "<Figure size 640x480 with 2 Axes>"
      ]
     },
     "metadata": {},
     "output_type": "display_data"
    }
   ],
   "source": [
    "fig, axes = plt.subplots(2,1,figsize=(8,6))\n",
    "#axes[0].plot(tp['zone'],tp['z_mass_fraction_metals'], 'k.')\n",
    "axes[0].plot(tp['zone'],tp['temperature'], 'r.')\n",
    "axes[0].set_xlabel('zone')\n",
    "axes[0].set_ylabel('temperature [K]')\n",
    "axes[0].invert_xaxis()\n",
    "#axes[0].set_ylim(0,1)\n",
    "\n",
    "#axes[1].plot(tp['q'],tp['z_mass_fraction_metals'], 'k.')\n",
    "axes[1].plot(tp['q'],tp['temperature'], 'r.')\n",
    "axes[1].set_xlabel('q = m/Mtot')\n",
    "axes[1].set_ylabel('temperature [K]')\n",
    "plt.show()"
   ]
  },
  {
   "cell_type": "code",
   "execution_count": 120,
   "metadata": {},
   "outputs": [
    {
     "data": {
      "image/png": "[encoded data removed]",
      "text/plain": [
       "<Figure size 640x480 with 1 Axes>"
      ]
     },
     "metadata": {},
     "output_type": "display_data"
    }
   ],
   "source": [
    "# q starts at 1 and goes to 0 \n",
    "#xq starts at 0 and goes to 1\n",
    "\n",
    "#z(xq) should start low and go high\n",
    "\n",
    "uniform_z = zmax*np.ones_like(tp['q'])\n",
    "linear_z = zmax-(zmax-pp_extras_Z)*np.array(tp['q'])\n",
    "exp_z = zmax * (zmax/pp_extras_Z)**(-np.array(tp['q']))\n",
    "gaussian_z = zmax * (zmax/pp_extras_Z)**(-np.array(tp['q'])**2)\n",
    "\n",
    "fig, ax = plt.subplots(1,1,figsize=(8,6))\n",
    "ax.plot(tp['q'], uniform_z, 'b.')\n",
    "ax.plot(1-tp['xq'], uniform_z, 'r.')\n",
    "\n",
    "ax.plot(tp['q'], linear_z, 'b.')\n",
    "ax.plot(1-tp['xq'], linear_z, 'r.')\n",
    "\n",
    "ax.plot(tp['q'], exp_z, 'b.')\n",
    "ax.plot(1-tp['xq'], exp_z, 'r.')\n",
    "\n",
    "ax.plot(tp['q'], gaussian_z, 'b.')\n",
    "ax.plot(1-tp['xq'], gaussian_z, 'r.')\n",
    "\n",
    "ax.set_xlabel(\"q = m/Mtot\")\n",
    "ax.set_ylabel(\"z\")\n",
    "plt.show()"
   ]
  },
  {
   "cell_type": "code",
   "execution_count": 155,
   "metadata": {},
   "outputs": [
    {
     "name": "stdout",
     "output_type": "stream",
     "text": [
      "57.7504595167869 earthMass\n"
     ]
    }
   ],
   "source": [
    "def total_metal_mass(zone_z, zone_dm):\n",
    "    zone_zmass = (zone_z*zone_dm)\n",
    "    return np.sum(zone_zmass)\n",
    "\n",
    "z = total_metal_mass(tp['z_mass_fraction_metals'], tp['dm']*u.g)\n",
    "print(z.to(u.earthMass))"
   ]
  },
  {
   "cell_type": "code",
   "execution_count": 150,
   "metadata": {},
   "outputs": [
    {
     "name": "stdout",
     "output_type": "stream",
     "text": [
      "87.55618501347332 earthMass\n"
     ]
    },
    {
     "data": {
      "text/plain": [
       "'\\ndef generate_exponential_profile(q, protosolar_Z=0.01733758, desired_total_metals=60*u.earthMass, species=pp_extras_species, protosolar_mass_fractions=pp_extras_protosolar_mass_fractions):\\n\\n    Z_max = fsolve(exponential_total_metals)\\n    prin\\n    \\n    return zs\\n'"
      ]
     },
     "execution_count": 150,
     "metadata": {},
     "output_type": "execute_result"
    }
   ],
   "source": [
    "\n",
    "exp_z = zmax * (zmax/pp_extras_Z)**(-np.array(tp['q']))\n",
    "gaussian_z = zmax * (zmax/pp_extras_Z)**(-np.array(tp['q'])**2)\n",
    "\n",
    "def generate_uniform_profile(q, dm, protosolar_Z=0.01733758, desired_total_metals=60*u.earthMass, species=pp_extras_species, protosolar_mass_fractions=pp_extras_protosolar_mass_fractions):\n",
    "    m_planet = np.sum(np.array(dm)) * u.g\n",
    "    zs = (desired_total_metals.to(u.g)/m_planet) * np.ones_like(np.array(q))\n",
    "    return zs         \n",
    "\n",
    "def generate_linear_profile(q, dm, protosolar_Z=0.01733758, desired_total_metals=60*u.earthMass, species=pp_extras_species, protosolar_mass_fractions=pp_extras_protosolar_mass_fractions):\n",
    "    m_planet = np.sum(np.array(dm)) * u.g\n",
    "    \"\"\"\n",
    "    Fix this normalization tomorrow\n",
    "    \"\"\"\n",
    "    Z_max = 2*(desired_total_metals.to(u.g)/m_planet) + protosolar_Z\n",
    "    zs = Z_max - (Z_max - protosolar_Z)*q\n",
    "    return zs\n",
    "\n",
    "test = generate_linear_profile(tp['q'],tp['dm'], desired_total_metals=60*u.earthMass)\n",
    "test_total_metals = np.sum(test * tp['dm']*u.g)\n",
    "print(test_total_metals.to(u.earthMass))\n",
    "\n",
    "'''\n",
    "def exponential_total_metals(Z_max, desired_total_metals=60*u.earthMass, protosolar_Z=0.01733758):\n",
    "    return desired_total_metals.value - (protosolar_Z - Z_max)/np.log(protosolar_Z/Z_max)\n",
    "\n",
    "Z_max = fsolve(exponential_total_metals, x0=0.75)\n",
    "print(Z_max)\n",
    "'''\n",
    "'''\n",
    "def generate_exponential_profile(q, protosolar_Z=0.01733758, desired_total_metals=60*u.earthMass, species=pp_extras_species, protosolar_mass_fractions=pp_extras_protosolar_mass_fractions):\n",
    "\n",
    "    Z_max = fsolve(exponential_total_metals)\n",
    "    prin\n",
    "    \n",
    "    return zs\n",
    "'''"
   ]
  },
  {
   "cell_type": "code",
   "execution_count": 142,
   "metadata": {},
   "outputs": [],
   "source": [
    "def format_profile(profile_array, savefilename):\n",
    "    return"
   ]
  },
  {
   "cell_type": "code",
   "execution_count": 127,
   "metadata": {},
   "outputs": [
    {
     "name": "stdout",
     "output_type": "stream",
     "text": [
      "10.0\n"
     ]
    }
   ],
   "source": [
    "test = 10*u.earthMass\n",
    "print(test.value)"
   ]
  },
  {
   "cell_type": "code",
   "execution_count": null,
   "metadata": {},
   "outputs": [],
   "source": []
  },
  {
   "cell_type": "code",
   "execution_count": null,
   "metadata": {},
   "outputs": [],
   "source": []
  },
  {
   "cell_type": "code",
   "execution_count": null,
   "metadata": {},
   "outputs": [],
   "source": []
  },
  {
   "cell_type": "code",
   "execution_count": null,
   "metadata": {},
   "outputs": [],
   "source": []
  },
  {
   "cell_type": "code",
   "execution_count": null,
   "metadata": {},
   "outputs": [],
   "source": []
  },
  {
   "cell_type": "code",
   "execution_count": null,
   "metadata": {},
   "outputs": [],
   "source": []
  },
  {
   "cell_type": "code",
   "execution_count": null,
   "metadata": {},
   "outputs": [],
   "source": []
  }
 ],
 "metadata": {
  "kernelspec": {
   "display_name": "Python 3 (ipykernel)",
   "language": "python",
   "name": "python3"
  },
  "language_info": {
   "codemirror_mode": {
    "name": "ipython",
    "version": 3
   },
   "file_extension": ".py",
   "mimetype": "text/x-python",
   "name": "python",
   "nbconvert_exporter": "python",
   "pygments_lexer": "ipython3",
   "version": "3.12.2"
  }
 },
 "nbformat": 4,
 "nbformat_minor": 4
}
